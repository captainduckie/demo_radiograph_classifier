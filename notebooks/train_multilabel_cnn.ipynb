"""
1. Import libraries
2. Load model from src.model
3. Load data from src.dataset
4. Define BCEWithLogitsLoss
5. Train for 1-3 epochs
6. Print loss and generate a report from src.report
"""
