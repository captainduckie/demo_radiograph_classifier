{
 "cells": [
  {
   "cell_type": "markdown",
   "id": "261ee5aa",
   "metadata": {},
   "source": [
    "# Multi-label Chest X-ray Classifier\n",
    "Demo notebook for a radiograph AI assessment report."
   ]
  },
  {
   "cell_type": "code",
   "execution_count": null,
   "id": "4f314a0a",
   "metadata": {},
   "outputs": [],
   "source": [
    "import torch\n",
    "import torch.nn as nn\n",
    "from torch.optim import Adam\n",
    "from src.model import MultiLabelCNN\n",
    "from src.dataset import get_dataloader\n",
    "from src.report import generate_report"
   ]
  },
  {
   "cell_type": "code",
   "execution_count": null,
   "id": "3a5c39bb",
   "metadata": {},
   "outputs": [],
   "source": [
    "# Set up data loader\n",
    "train_dl = get_dataloader('path/to/data', batch_size=8)"
   ]
  },
  {
   "cell_type": "code",
   "execution_count": null,
   "id": "7bc9db7c",
   "metadata": {},
   "outputs": [],
   "source": [
    "# Initialize model\n",
    "model = MultiLabelCNN(num_labels=3)  # Example: Effusion, Infiltration, Cardiomegaly\n",
    "criterion = nn.BCEWithLogitsLoss()\n",
    "optimizer = Adam(model.parameters(), lr=1e-4)"
   ]
  },
  {
   "cell_type": "code",
   "execution_count": null,
   "id": "9d7ba476",
   "metadata": {},
   "outputs": [],
   "source": [
    "# Train for 1 epoch (demo purposes)\n",
    "model.train()\n",
    "for xb, yb in train_dl:\n",
    "    optimizer.zero_grad()\n",
    "    preds = model(xb)\n",
    "    loss = criterion(preds, yb.float())\n",
    "    loss.backward()\n",
    "    optimizer.step()\n",
    "    print(f'Loss: {loss.item():.4f}')\n",
    "    break  # Just one batch for testing"
   ]
  },
  {
   "cell_type": "code",
   "execution_count": null,
   "id": "43d3581d",
   "metadata": {},
   "outputs": [],
   "source": [
    "# Example predictions (mock values)\n",
    "preds = torch.tensor([0.83, 0.22, 0.76])\n",
    "report = generate_report(preds, labels=[\"Effusion\", \"Mass\", \"Cardiomegaly\"])\n",
    "print(report)"
   ]
  }
 ],
 "metadata": {},
 "nbformat": 4,
 "nbformat_minor": 5
}
